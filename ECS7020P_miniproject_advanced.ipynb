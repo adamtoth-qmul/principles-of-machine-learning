{
  "nbformat": 4,
  "nbformat_minor": 0,
  "metadata": {
    "colab": {
      "name": "ECS7020P_miniproject_advanced.ipynb",
      "provenance": []
    },
    "kernelspec": {
      "name": "python3",
      "display_name": "Python 3"
    },
    "language_info": {
      "name": "python"
    }
  },
  "cells": [
    {
      "cell_type": "markdown",
      "source": [
        "# **MLEnd Mini Project, Part 2**\n",
        "# **1. Author**\n",
        "\n",
        "**Student Name**:  Adam Toth <br>\n",
        "**Student ID**:  210505924\n",
        "\n",
        "# **2. Problem formulation**\n",
        "This assignment uses the MLEnd Hums and Whistles dataset and attempts to build a machine learning pipeline that given 8 different songs in a dataset will form clusters based on previously extracted features. \n",
        "<br>\n",
        "\n",
        "\n",
        "\n",
        "# **3. Machine Learning pipeline**\n",
        "`Insert picture of all steps that are going to be implemented.`"
      ],
      "metadata": {
        "id": "UhSwhMDK4vwN"
      }
    },
    {
      "cell_type": "code",
      "source": [
        ""
      ],
      "metadata": {
        "id": "eprB0tGx5MFW"
      },
      "execution_count": null,
      "outputs": []
    },
    {
      "cell_type": "markdown",
      "source": [
        "# **4. Transformation stage**\n",
        "`Describe any transformations, such as feature extraction. Identify input and output`.\n",
        "\n",
        "### **`1. Feature extraction --> dimensionality reduction`**\n",
        "### **`1. Feature extraction --> dimensionality reduction`**\n",
        "  `Before the following steps are considered, let's define what goal is to be achieved. Some predictor features and a target feature are needed to be extracted from the created dataframe. In the first (basic) part of this paper, this four predictor features are going to be:`<br>\n",
        "* `Power`\n",
        "* `Pitch mean`\n",
        "* `Pitch standard deviation`\n",
        "* `Fraction of voiced region`,\n",
        "\n",
        "`whilst the target variable will be \"song\" (either Potter or StarWars).`\n",
        "\n",
        "By extracting four features from our audio signals, we are reducing the original data's dimensionality and establishing a subset of the original attributes (feature selection), on which we can perform various operations (feature extraction). Based on these predictor features a later defined models will decide whether the song is Potter or StarWars.` \n",
        "\n",
        "Two functions are defined at this stage that will extract the required features from our audio signals. \n",
        "\n",
        "**1.** 'getPitch': gets the pitch of an audio signal\n",
        "\n",
        "**2.** 'getXy': takes a number of files and creates a NumPy array containing the four audio features used as predictors (X) and a binary label (y), that indicates whether the song is Potter (y=1) or StarWars (y=0). The resulting shapes of X and y arrays are then:\n",
        "* The shape of X is:  (832, 4)\n",
        "* The shape of y is:  (832,)\n",
        "\n",
        "### **`2. Feature Scaling`**\n",
        "Feature scaling needs to be applied to the extracted predictors as they could be at different levels of magnitude (e.g., different scale) causing algorithms sensitive to scaling, such as k-Means algorithm, to perform worse than otherwise and lead to incorrect model outcomes (e.g., if there are a few features that are dominant in magnitude, they would govern the model's results.  \n",
        "\n",
        "This project will scale features using 'Standard Scaling' (Z-score normalisation), making features' properties to have a standard normal distribution with mean of 0 and standard deviation of 1. \n",
        "\n",
        "\n",
        "# **5. Modeling**\n",
        "`Describe the Machine Learning models that you will implement.`\n",
        "\n",
        "* __k-Means Clustering__<br>\n",
        "K-Means Clustering is an unsupervisded machine learning algorithm, meaning it only takes input vectors without referring to labelled outcomes. \n",
        "\n",
        "\"K-means starts by selecting _k_ random data points as the initial centroids. This initial solution is improved by two steps: assignment and update. In the _assignment step_, every point is put into the cluster whose centroid is closest. In the _update step_, the centroids are re-calculated by taking the mean of all data points assigned in each cluster. Together, these two steps constitute one iteration of k-means. These steps fine-tune both the cluster borders and the centroid location. The steps are iterated a fixed number of times (called iterations), or continued until no further improvement is obtained)\" (Fränti & Sieranoja, 2018).\n",
        "\n",
        "# **6. Methodology**\n",
        "#### **Strategy to evaluate the performance** (designed before creating models)\n",
        "### **`Quality metric`** (quantifying the performance)<br>\n",
        "Contrary to the previously used KNN and SVM supervised ML models in Part 1 of this assignment, k-means clustering does not have a solid evaluation metric that could be applied to the results. \n",
        "\n",
        "How many clusters are formed could give an intuition whether the algorithm performed well. For this, domain knowledge is required, that is, knowing how many songs there are (7 in this case)\n",
        "      \n",
        "### **`On testing`**\n",
        "Since there are will be no labels in this exercise (as k-Means algorithm is unsupervised), there is no training or test data split. Since the algorithm is not learning labels, it cannot overfit. \n",
        "\n",
        "# **7. Dataset**\n",
        "The paper uses 350 given recordings of either hummings and whistlings of the most notable song parts of Harry Potter, Star Wars, Mamma Mia, Pink Panther, Lion King, Singing in the Rain, and The Greatest Show. \n",
        "<br>\n",
        "## **Step 1**<br>\n",
        "As a first step, files are downloaded from a given url and uploaded into my Google Drive. \n",
        "\n",
        "## **Step 2**<br>\n",
        "Next, files are downloaded locally to correct files names that do not follow the instructed naming conventions. Once the corrected files are uploaded back to the Google Drive, sample paths of the respective folders are set here in Google Colab. Files are then imported as lists (seven of them). \n",
        "\n",
        "Each respective lists are then randomly sampled to reduce the final size of the generated dataframe and computation time later on. \n",
        "\n",
        "All seven lists are then used to create Pandas Dataframes by extracting each instance's 'file_id', 'participant' (id of recorder), 'interpretation' (type as of either humming or whistling), 'interpretation number', and 'song. Once this is done, the dataframes are merged together."
      ],
      "metadata": {
        "id": "6Vi839_J5N_i"
      }
    },
    {
      "cell_type": "code",
      "source": [
        "# Loading necessary libraries\n",
        "from google.colab import drive\n",
        "\n",
        "import numpy as np\n",
        "import pandas as pd\n",
        "import matplotlib.pyplot as plt\n",
        "\n",
        "import os, sys, re, pickle, glob\n",
        "import urllib.request\n",
        "import zipfile\n",
        "\n",
        "import IPython.display as ipd\n",
        "from tqdm import tqdm\n",
        "\n",
        "import librosa\n",
        "\n",
        "drive.mount('/content/drive')"
      ],
      "metadata": {
        "colab": {
          "base_uri": "https://localhost:8080/"
        },
        "id": "3ufhUFSZ5VsD",
        "outputId": "e72750e0-da7b-44ac-c8b9-13312de74dd3"
      },
      "execution_count": 1,
      "outputs": [
        {
          "output_type": "stream",
          "name": "stdout",
          "text": [
            "Mounted at /content/drive\n"
          ]
        }
      ]
    },
    {
      "cell_type": "code",
      "source": [
        "path = '/content/drive/MyDrive/Public_Data/MLEndHW'\n",
        "os.listdir(path)"
      ],
      "metadata": {
        "colab": {
          "base_uri": "https://localhost:8080/"
        },
        "id": "G7FOiKQS8VTX",
        "outputId": "907f9400-9794-4afe-ac41-53545d7428ac"
      },
      "execution_count": 3,
      "outputs": [
        {
          "output_type": "execute_result",
          "data": {
            "text/plain": [
              "['MLEndHW_Sample.zip',\n",
              " 'Potter_1.zip',\n",
              " 'Potter_2.zip',\n",
              " 'StarWars_1.zip',\n",
              " 'StarWars_2.zip',\n",
              " 'Potter_1',\n",
              " 'Potter_2',\n",
              " 'StarWars_1',\n",
              " 'StarWars_2',\n",
              " 'Hakuna_1',\n",
              " 'Mamma_1',\n",
              " 'Rain_1',\n",
              " 'Showman_1',\n",
              " 'IMG_5050.jpg',\n",
              " 'Panther_1']"
            ]
          },
          "metadata": {},
          "execution_count": 3
        }
      ]
    },
    {
      "cell_type": "code",
      "source": [
        "import random"
      ],
      "metadata": {
        "id": "UkUoYK1OENrM"
      },
      "execution_count": 14,
      "outputs": []
    },
    {
      "cell_type": "code",
      "source": [
        "# Potter\n",
        "sample_path = '/content/drive/MyDrive/Public_Data/MLEndHW/Potter_1/*.wav'\n",
        "files1 = glob.glob(sample_path)\n",
        "files1_random = random.choices(files1, k=50)\n",
        "\n",
        "# StarWars\n",
        "sample_path2 = '/content/drive/MyDrive/Public_Data/MLEndHW/StarWars_1/*.wav'\n",
        "files2 = glob.glob(sample_path2)\n",
        "files2_random = random.choices(files2, k=50)\n",
        "\n",
        "# Hakuna\n",
        "sample_path3 = '/content/drive/MyDrive/Public_Data/MLEndHW/Hakuna_1/*.wav'\n",
        "files3 = glob.glob(sample_path3)\n",
        "files3_random = random.choices(files3, k=50)\n",
        "\n",
        "\n",
        "# Mamma Mia\n",
        "sample_path4 = '/content/drive/MyDrive/Public_Data/MLEndHW/Mamma_1/*.wav'\n",
        "files4 = glob.glob(sample_path4)\n",
        "files4_random = random.choices(files4, k=50)\n",
        "\n",
        "\n",
        "# Rain\n",
        "sample_path5 = '/content/drive/MyDrive/Public_Data/MLEndHW/Rain_1/*.wav'\n",
        "files5 = glob.glob(sample_path5)\n",
        "files5_random = random.choices(files5, k=50)\n",
        "\n",
        "\n",
        "# Showman\n",
        "sample_path6 = '/content/drive/MyDrive/Public_Data/MLEndHW/Showman_1/*.wav'\n",
        "files6 = glob.glob(sample_path6)\n",
        "files6_random = random.choices(files6, k=50)\n",
        "\n",
        "\n",
        "# Panther\n",
        "sample_path7 = '/content/drive/MyDrive/Public_Data/MLEndHW/Panther_1/*.wav'\n",
        "files7 = glob.glob(sample_path7)\n",
        "files7_random = random.choices(files7, k=50)\n"
      ],
      "metadata": {
        "id": "qfzaFSU48Xpp"
      },
      "execution_count": 17,
      "outputs": []
    },
    {
      "cell_type": "code",
      "source": [
        "MLENDHW_table = [] \n",
        "MLENDHW_table2 = [] \n",
        "MLENDHW_table3 = [] \n",
        "MLENDHW_table4 = [] \n",
        "MLENDHW_table5 = [] \n",
        "MLENDHW_table6 = [] \n",
        "MLENDHW_table7 = [] \n",
        "\n",
        "for file in files1_random:\n",
        "  file_name = file.split('/')[-1]\n",
        "  participant_ID = file.split('/')[-1].split('_')[0]\n",
        "  interpretation_type = file.split('/')[-1].split('_')[1]\n",
        "  interpretation_number = file.split('/')[-1].split('_')[-1]\n",
        "  song = file.split('/')[-1].split('_')[-1].split('.')[0]\n",
        "  MLENDHW_table.append([file_name,participant_ID,interpretation_type,interpretation_number, song])\n",
        "\n",
        "for file in files2_random:\n",
        "  file_name = file.split('/')[-1]\n",
        "  participant_ID = file.split('/')[-1].split('_')[0]\n",
        "  interpretation_type = file.split('/')[-1].split('_')[1]\n",
        "  interpretation_number = file.split('/')[-1].split('_')[-1]\n",
        "  song = file.split('/')[-1].split('_')[-1].split('.')[0]\n",
        "  MLENDHW_table2.append([file_name,participant_ID,interpretation_type,interpretation_number, song])\n",
        "\n",
        "for file in files3_random:\n",
        "  file_name = file.split('/')[-1]\n",
        "  participant_ID = file.split('/')[-1].split('_')[0]\n",
        "  interpretation_type = file.split('/')[-1].split('_')[1]\n",
        "  interpretation_number = file.split('/')[-1].split('_')[-1]\n",
        "  song = file.split('/')[-1].split('_')[-1].split('.')[0]\n",
        "  MLENDHW_table3.append([file_name,participant_ID,interpretation_type,interpretation_number, song])\n",
        "\n",
        "for file in files4_random:\n",
        "  file_name = file.split('/')[-1]\n",
        "  participant_ID = file.split('/')[-1].split('_')[0]\n",
        "  interpretation_type = file.split('/')[-1].split('_')[1]\n",
        "  interpretation_number = file.split('/')[-1].split('_')[-1]\n",
        "  song = file.split('/')[-1].split('_')[-1].split('.')[0]\n",
        "  MLENDHW_table4.append([file_name,participant_ID,interpretation_type,interpretation_number, song])\n",
        "\n",
        "for file in files5_random:\n",
        "  file_name = file.split('/')[-1]\n",
        "  participant_ID = file.split('/')[-1].split('_')[0]\n",
        "  interpretation_type = file.split('/')[-1].split('_')[1]\n",
        "  interpretation_number = file.split('/')[-1].split('_')[-1]\n",
        "  song = file.split('/')[-1].split('_')[-1].split('.')[0]\n",
        "  MLENDHW_table5.append([file_name,participant_ID,interpretation_type,interpretation_number, song])\n",
        "\n",
        "for file in files6_random:\n",
        "  file_name = file.split('/')[-1]\n",
        "  participant_ID = file.split('/')[-1].split('_')[0]\n",
        "  interpretation_type = file.split('/')[-1].split('_')[1]\n",
        "  interpretation_number = file.split('/')[-1].split('_')[-1]\n",
        "  song = file.split('/')[-1].split('_')[-1].split('.')[0]\n",
        "  MLENDHW_table6.append([file_name,participant_ID,interpretation_type,interpretation_number, song])\n",
        "\n",
        "for file in files7_random:\n",
        "  file_name = file.split('/')[-1]\n",
        "  participant_ID = file.split('/')[-1].split('_')[0]\n",
        "  interpretation_type = file.split('/')[-1].split('_')[1]\n",
        "  interpretation_number = file.split('/')[-1].split('_')[-1]\n",
        "  song = file.split('/')[-1].split('_')[-1].split('.')[0]\n",
        "  MLENDHW_table7.append([file_name,participant_ID,interpretation_type,interpretation_number, song])\n",
        "\n",
        "MLENDHW_df = pd.DataFrame(MLENDHW_table,columns=['file_id','participant','interpretation','number','song']).set_index('file_id') \n",
        "MLENDHW_df2 = pd.DataFrame(MLENDHW_table2,columns=['file_id','participant','interpretation','number','song']).set_index('file_id') \n",
        "MLENDHW_df3 = pd.DataFrame(MLENDHW_table3,columns=['file_id','participant','interpretation','number','song']).set_index('file_id') \n",
        "MLENDHW_df4 = pd.DataFrame(MLENDHW_table4,columns=['file_id','participant','interpretation','number','song']).set_index('file_id') \n",
        "MLENDHW_df5 = pd.DataFrame(MLENDHW_table5,columns=['file_id','participant','interpretation','number','song']).set_index('file_id') \n",
        "MLENDHW_df6 = pd.DataFrame(MLENDHW_table6,columns=['file_id','participant','interpretation','number','song']).set_index('file_id') \n",
        "MLENDHW_df7 = pd.DataFrame(MLENDHW_table7,columns=['file_id','participant','interpretation','number','song']).set_index('file_id') \n",
        "\n",
        "# Merging data from different folders and dataframes\n",
        "files = files1_random + files2_random + files3_random + files4_random + files5_random + files6_random + files7_random\n",
        "\n",
        "dataframes = [MLENDHW_df, MLENDHW_df2, MLENDHW_df3, MLENDHW_df4, MLENDHW_df5, MLENDHW_df6, MLENDHW_df7]\n",
        "final_df2 = pd.concat(dataframes)\n",
        "final_df2"
      ],
      "metadata": {
        "colab": {
          "base_uri": "https://localhost:8080/",
          "height": 455
        },
        "id": "r-2kYDHT9aUN",
        "outputId": "ffbc078a-59cd-4277-acaa-69067660402e"
      },
      "execution_count": 18,
      "outputs": [
        {
          "output_type": "execute_result",
          "data": {
            "text/html": [
              "<div>\n",
              "<style scoped>\n",
              "    .dataframe tbody tr th:only-of-type {\n",
              "        vertical-align: middle;\n",
              "    }\n",
              "\n",
              "    .dataframe tbody tr th {\n",
              "        vertical-align: top;\n",
              "    }\n",
              "\n",
              "    .dataframe thead th {\n",
              "        text-align: right;\n",
              "    }\n",
              "</style>\n",
              "<table border=\"1\" class=\"dataframe\">\n",
              "  <thead>\n",
              "    <tr style=\"text-align: right;\">\n",
              "      <th></th>\n",
              "      <th>participant</th>\n",
              "      <th>interpretation</th>\n",
              "      <th>number</th>\n",
              "      <th>song</th>\n",
              "    </tr>\n",
              "    <tr>\n",
              "      <th>file_id</th>\n",
              "      <th></th>\n",
              "      <th></th>\n",
              "      <th></th>\n",
              "      <th></th>\n",
              "    </tr>\n",
              "  </thead>\n",
              "  <tbody>\n",
              "    <tr>\n",
              "      <th>S114_hum_2_Potter.wav</th>\n",
              "      <td>S114</td>\n",
              "      <td>hum</td>\n",
              "      <td>Potter.wav</td>\n",
              "      <td>Potter</td>\n",
              "    </tr>\n",
              "    <tr>\n",
              "      <th>S49_hum_4_Potter.wav</th>\n",
              "      <td>S49</td>\n",
              "      <td>hum</td>\n",
              "      <td>Potter.wav</td>\n",
              "      <td>Potter</td>\n",
              "    </tr>\n",
              "    <tr>\n",
              "      <th>S39_whistle_2_Potter.wav</th>\n",
              "      <td>S39</td>\n",
              "      <td>whistle</td>\n",
              "      <td>Potter.wav</td>\n",
              "      <td>Potter</td>\n",
              "    </tr>\n",
              "    <tr>\n",
              "      <th>S101_hum_1_Potter.wav</th>\n",
              "      <td>S101</td>\n",
              "      <td>hum</td>\n",
              "      <td>Potter.wav</td>\n",
              "      <td>Potter</td>\n",
              "    </tr>\n",
              "    <tr>\n",
              "      <th>S54_whistle_2_Potter.wav</th>\n",
              "      <td>S54</td>\n",
              "      <td>whistle</td>\n",
              "      <td>Potter.wav</td>\n",
              "      <td>Potter</td>\n",
              "    </tr>\n",
              "    <tr>\n",
              "      <th>...</th>\n",
              "      <td>...</td>\n",
              "      <td>...</td>\n",
              "      <td>...</td>\n",
              "      <td>...</td>\n",
              "    </tr>\n",
              "    <tr>\n",
              "      <th>S5_hum_4_Panther.wav</th>\n",
              "      <td>S5</td>\n",
              "      <td>hum</td>\n",
              "      <td>Panther.wav</td>\n",
              "      <td>Panther</td>\n",
              "    </tr>\n",
              "    <tr>\n",
              "      <th>S84_hum_2_Panther.wav</th>\n",
              "      <td>S84</td>\n",
              "      <td>hum</td>\n",
              "      <td>Panther.wav</td>\n",
              "      <td>Panther</td>\n",
              "    </tr>\n",
              "    <tr>\n",
              "      <th>S89_whistle_1_Panther.wav</th>\n",
              "      <td>S89</td>\n",
              "      <td>whistle</td>\n",
              "      <td>Panther.wav</td>\n",
              "      <td>Panther</td>\n",
              "    </tr>\n",
              "    <tr>\n",
              "      <th>S90_hum_2_Panther.wav</th>\n",
              "      <td>S90</td>\n",
              "      <td>hum</td>\n",
              "      <td>Panther.wav</td>\n",
              "      <td>Panther</td>\n",
              "    </tr>\n",
              "    <tr>\n",
              "      <th>S59_hum_4_Panther.wav</th>\n",
              "      <td>S59</td>\n",
              "      <td>hum</td>\n",
              "      <td>Panther.wav</td>\n",
              "      <td>Panther</td>\n",
              "    </tr>\n",
              "  </tbody>\n",
              "</table>\n",
              "<p>350 rows × 4 columns</p>\n",
              "</div>"
            ],
            "text/plain": [
              "                          participant interpretation       number     song\n",
              "file_id                                                                   \n",
              "S114_hum_2_Potter.wav            S114            hum   Potter.wav   Potter\n",
              "S49_hum_4_Potter.wav              S49            hum   Potter.wav   Potter\n",
              "S39_whistle_2_Potter.wav          S39        whistle   Potter.wav   Potter\n",
              "S101_hum_1_Potter.wav            S101            hum   Potter.wav   Potter\n",
              "S54_whistle_2_Potter.wav          S54        whistle   Potter.wav   Potter\n",
              "...                               ...            ...          ...      ...\n",
              "S5_hum_4_Panther.wav               S5            hum  Panther.wav  Panther\n",
              "S84_hum_2_Panther.wav             S84            hum  Panther.wav  Panther\n",
              "S89_whistle_1_Panther.wav         S89        whistle  Panther.wav  Panther\n",
              "S90_hum_2_Panther.wav             S90            hum  Panther.wav  Panther\n",
              "S59_hum_4_Panther.wav             S59            hum  Panther.wav  Panther\n",
              "\n",
              "[350 rows x 4 columns]"
            ]
          },
          "metadata": {},
          "execution_count": 18
        }
      ]
    },
    {
      "cell_type": "code",
      "source": [
        "# Function gets the pitch of an audio signal\n",
        "def getPitch(x,fs,winLen=0.02):\n",
        "  #winLen = 0.02 \n",
        "  p = winLen*fs\n",
        "  frame_length = int(2**int(p-1).bit_length())\n",
        "  hop_length = frame_length//2\n",
        "  f0, voiced_flag, voiced_probs = librosa.pyin(y=x, fmin=80, fmax=450, sr=fs,\n",
        "                                                 frame_length=frame_length,hop_length=hop_length)\n",
        "  return f0,voiced_flag"
      ],
      "metadata": {
        "id": "dYkSdz2i-fqZ"
      },
      "execution_count": 19,
      "outputs": []
    },
    {
      "cell_type": "code",
      "source": [
        "# Extracting four audio features as predictor variables (X) and a binary label (y)\n",
        "def getX(files,labels_file, scale_audio=False, onlySingleDigit=False):\n",
        "  X =[]\n",
        "  for file in tqdm(files):\n",
        "    fileID = file.split('/')[-1]\n",
        "    file_name = file.split('/')[-1]\n",
        "    #print(file_name)\n",
        "    #print(labels_file.loc[fileID]['interpretation'])\n",
        "    #print(labels_file.loc[fileID]['interpretation']=='hum')\n",
        "    #yi = list(labels_file.loc[fileID]['interpretation'])[0]=='hum'\n",
        "    #yi = labels_file.loc[fileID]['song']=='Potter'\n",
        "\n",
        "    fs = None # if None, fs would be 22050\n",
        "    x, fs = librosa.load(file,sr=fs)\n",
        "    if scale_audio: x = x/np.max(np.abs(x))\n",
        "    f0, voiced_flag = getPitch(x,fs,winLen=0.02)\n",
        "      \n",
        "    power = np.sum(x**2)/len(x)\n",
        "    pitch_mean = np.nanmean(f0) if np.mean(np.isnan(f0))<1 else 0\n",
        "    pitch_std  = np.nanstd(f0) if np.mean(np.isnan(f0))<1 else 0\n",
        "    voiced_fr = np.mean(voiced_flag)\n",
        "\n",
        "    xi = [power,pitch_mean,pitch_std,voiced_fr]\n",
        "    X.append(xi)\n",
        "\n",
        "  return np.array(X)"
      ],
      "metadata": {
        "id": "DEqFoH89DCX8"
      },
      "execution_count": 20,
      "outputs": []
    },
    {
      "cell_type": "code",
      "source": [
        "# Iterating through all instances in dataframe, deriving the 4 pre-specified predictor features (X)\n",
        "# and target variable y (either Potter or StarWars)\n",
        "X = getX(files, labels_file=final_df2, scale_audio=True, onlySingleDigit=True)"
      ],
      "metadata": {
        "colab": {
          "base_uri": "https://localhost:8080/"
        },
        "id": "fkh8G0SrDaFI",
        "outputId": "296d5ce2-d461-4f15-b598-3c99309a7003"
      },
      "execution_count": 21,
      "outputs": [
        {
          "output_type": "stream",
          "name": "stderr",
          "text": [
            "100%|██████████| 350/350 [21:19<00:00,  3.66s/it]\n"
          ]
        }
      ]
    },
    {
      "cell_type": "code",
      "source": [
        "from numpy import asarray\n",
        "from numpy import savetxt\n",
        "\n",
        "# Save X to csv so I don't have to run it later\n",
        "savetxt('X.csv', X, delimiter=',')"
      ],
      "metadata": {
        "id": "_lxDGMUnF3mQ"
      },
      "execution_count": 22,
      "outputs": []
    },
    {
      "cell_type": "code",
      "source": [
        "from numpy import genfromtxt\n",
        "X = genfromtxt('X.csv', delimiter=',')"
      ],
      "metadata": {
        "id": "0txOFF66GCZE"
      },
      "execution_count": 23,
      "outputs": []
    },
    {
      "cell_type": "code",
      "source": [
        "# Converting X into pandas dataframe for visualisation\n",
        "dataset = pd.DataFrame({'Power': X[:, 0], \n",
        "                        'Pitch Mean': X[:, 1],\n",
        "                        'Pitch s.d': X[:, 2], \n",
        "                        'Fract.of voiced region': X[:, 3],\n",
        "                        'Song': final_df2['song']})\n",
        "\n",
        "dataset.head()"
      ],
      "metadata": {
        "colab": {
          "base_uri": "https://localhost:8080/",
          "height": 237
        },
        "id": "MAObCPjPGIK6",
        "outputId": "23de33c1-6235-4ca2-8b75-fcb38f22a40b"
      },
      "execution_count": 24,
      "outputs": [
        {
          "output_type": "execute_result",
          "data": {
            "text/html": [
              "<div>\n",
              "<style scoped>\n",
              "    .dataframe tbody tr th:only-of-type {\n",
              "        vertical-align: middle;\n",
              "    }\n",
              "\n",
              "    .dataframe tbody tr th {\n",
              "        vertical-align: top;\n",
              "    }\n",
              "\n",
              "    .dataframe thead th {\n",
              "        text-align: right;\n",
              "    }\n",
              "</style>\n",
              "<table border=\"1\" class=\"dataframe\">\n",
              "  <thead>\n",
              "    <tr style=\"text-align: right;\">\n",
              "      <th></th>\n",
              "      <th>Power</th>\n",
              "      <th>Pitch Mean</th>\n",
              "      <th>Pitch s.d</th>\n",
              "      <th>Fract.of voiced region</th>\n",
              "      <th>Song</th>\n",
              "    </tr>\n",
              "    <tr>\n",
              "      <th>file_id</th>\n",
              "      <th></th>\n",
              "      <th></th>\n",
              "      <th></th>\n",
              "      <th></th>\n",
              "      <th></th>\n",
              "    </tr>\n",
              "  </thead>\n",
              "  <tbody>\n",
              "    <tr>\n",
              "      <th>S114_hum_2_Potter.wav</th>\n",
              "      <td>0.030767</td>\n",
              "      <td>184.604440</td>\n",
              "      <td>39.693705</td>\n",
              "      <td>0.713545</td>\n",
              "      <td>Potter</td>\n",
              "    </tr>\n",
              "    <tr>\n",
              "      <th>S49_hum_4_Potter.wav</th>\n",
              "      <td>0.031629</td>\n",
              "      <td>375.893517</td>\n",
              "      <td>43.269988</td>\n",
              "      <td>0.795563</td>\n",
              "      <td>Potter</td>\n",
              "    </tr>\n",
              "    <tr>\n",
              "      <th>S39_whistle_2_Potter.wav</th>\n",
              "      <td>0.020171</td>\n",
              "      <td>403.050520</td>\n",
              "      <td>35.063820</td>\n",
              "      <td>0.678764</td>\n",
              "      <td>Potter</td>\n",
              "    </tr>\n",
              "    <tr>\n",
              "      <th>S101_hum_1_Potter.wav</th>\n",
              "      <td>0.027797</td>\n",
              "      <td>289.233523</td>\n",
              "      <td>79.005025</td>\n",
              "      <td>0.771298</td>\n",
              "      <td>Potter</td>\n",
              "    </tr>\n",
              "    <tr>\n",
              "      <th>S54_whistle_2_Potter.wav</th>\n",
              "      <td>0.026879</td>\n",
              "      <td>389.805694</td>\n",
              "      <td>35.554751</td>\n",
              "      <td>0.552615</td>\n",
              "      <td>Potter</td>\n",
              "    </tr>\n",
              "  </tbody>\n",
              "</table>\n",
              "</div>"
            ],
            "text/plain": [
              "                             Power  Pitch Mean  ...  Fract.of voiced region    Song\n",
              "file_id                                         ...                                \n",
              "S114_hum_2_Potter.wav     0.030767  184.604440  ...                0.713545  Potter\n",
              "S49_hum_4_Potter.wav      0.031629  375.893517  ...                0.795563  Potter\n",
              "S39_whistle_2_Potter.wav  0.020171  403.050520  ...                0.678764  Potter\n",
              "S101_hum_1_Potter.wav     0.027797  289.233523  ...                0.771298  Potter\n",
              "S54_whistle_2_Potter.wav  0.026879  389.805694  ...                0.552615  Potter\n",
              "\n",
              "[5 rows x 5 columns]"
            ]
          },
          "metadata": {},
          "execution_count": 24
        }
      ]
    },
    {
      "cell_type": "code",
      "source": [
        "# Histograms\n",
        "plt.hist(x=dataset.Power, edgecolor='black')\n",
        "plt.title(\"Power\")\n",
        "plt.show()\n",
        "\n",
        "plt.hist(x=dataset['Pitch Mean'])\n",
        "plt.title(\"Pitch Mean\")\n",
        "plt.show()\n",
        "\n",
        "plt.hist(x=dataset['Pitch s.d'])\n",
        "plt.title(\"Pitch Standard Deviation\")\n",
        "plt.show()\n",
        "\n",
        "plt.hist(x=dataset['Fract.of voiced region'])\n",
        "plt.title(\"Fraction of voiced region\")\n",
        "plt.show()"
      ],
      "metadata": {
        "colab": {
          "base_uri": "https://localhost:8080/",
          "height": 1000
        },
        "id": "7X6ZCNuWGXTI",
        "outputId": "ae4a2cd0-eea1-4358-ed0a-552f1d2c8462"
      },
      "execution_count": 25,
      "outputs": [
        {
          "output_type": "display_data",
          "data": {
            "image/png": "[encoded data removed]",
            "text/plain": [
              "<Figure size 432x288 with 1 Axes>"
            ]
          },
          "metadata": {
            "needs_background": "light"
          }
        },
        {
          "output_type": "display_data",
          "data": {
            "image/png": "[encoded data removed]",
            "text/plain": [
              "<Figure size 432x288 with 1 Axes>"
            ]
          },
          "metadata": {
            "needs_background": "light"
          }
        },
        {
          "output_type": "display_data",
          "data": {
            "image/png": "[encoded data removed]",
            "text/plain": [
              "<Figure size 432x288 with 1 Axes>"
            ]
          },
          "metadata": {
            "needs_background": "light"
          }
        },
        {
          "output_type": "display_data",
          "data": {
            "image/png": "[encoded data removed]",
            "text/plain": [
              "<Figure size 432x288 with 1 Axes>"
            ]
          },
          "metadata": {
            "needs_background": "light"
          }
        }
      ]
    },
    {
      "cell_type": "code",
      "source": [
        "from sklearn.utils.sparsefuncs import min_max_axis\n",
        "from sklearn.cluster import KMeans\n",
        "from sklearn.preprocessing import MinMaxScaler\n",
        "\n",
        "# Scaling X\n",
        "scaler = MinMaxScaler()\n",
        "X_scaled = scaler.fit_transform(X)\n"
      ],
      "metadata": {
        "id": "Qoquq_axI9YS"
      },
      "execution_count": 64,
      "outputs": []
    },
    {
      "cell_type": "code",
      "source": [
        "# Initial model with n_cluser=2\n",
        "model_first=KMeans(n_clusters=2,random_state=0)\n",
        "labels=model_first.fit_predict(X_scaled)\n",
        "\n",
        "# Visualising\n",
        "plt.scatter(X_scaled[labels==0,0],X_scaled[labels==0,1],c= \"green\", label=\"Cluster 1\")\n",
        "plt.scatter(X_scaled[labels==1,0],X_scaled[labels==1,1],c= \"yellow\",label=\"Cluster 2\")"
      ],
      "metadata": {
        "colab": {
          "base_uri": "https://localhost:8080/",
          "height": 282
        },
        "id": "wJMqcNp7N-MT",
        "outputId": "706db793-f0c5-4119-91c7-af268511bac1"
      },
      "execution_count": 66,
      "outputs": [
        {
          "output_type": "execute_result",
          "data": {
            "text/plain": [
              "<matplotlib.collections.PathCollection at 0x7f92751dd610>"
            ]
          },
          "metadata": {},
          "execution_count": 66
        },
        {
          "output_type": "display_data",
          "data": {
            "image/png": "[encoded data removed]",
            "text/plain": [
              "<Figure size 432x288 with 1 Axes>"
            ]
          },
          "metadata": {
            "needs_background": "light"
          }
        }
      ]
    },
    {
      "cell_type": "code",
      "source": [
        "objective_function=[] \n",
        "for i in range(1,15):\n",
        "    clustering=KMeans(n_clusters=i, init='k-means++')\n",
        "    clustering.fit(X_scaled)\n",
        "    objective_function.append(clustering.inertia_)\n",
        "# Inertia is calculaing min intra cluster distance\n",
        "# Objective function contains min-intra cluster distances \n",
        "objective_function"
      ],
      "metadata": {
        "colab": {
          "base_uri": "https://localhost:8080/"
        },
        "id": "x_kIfHZeMneL",
        "outputId": "f074cd7c-3821-4ad2-de94-4c557db72c3a"
      },
      "execution_count": 43,
      "outputs": [
        {
          "output_type": "execute_result",
          "data": {
            "text/plain": [
              "[47.10513839260195,\n",
              " 24.034464382667057,\n",
              " 19.224914228756152,\n",
              " 15.72863016264293,\n",
              " 13.940863999777775,\n",
              " 12.330002659415996,\n",
              " 11.074179654029857,\n",
              " 9.753863959129362,\n",
              " 8.976389309583743,\n",
              " 8.336032166764198,\n",
              " 7.832491481463513,\n",
              " 7.2978456772327025,\n",
              " 6.953445108183722,\n",
              " 6.6670065019552975]"
            ]
          },
          "metadata": {},
          "execution_count": 43
        }
      ]
    },
    {
      "cell_type": "code",
      "source": [
        "# Elbow method to find optimal number of clusters\n",
        "# Elbow technique is plot between no of clusters and objective_function \n",
        "# we take k at a point where the objective function value have elbow shape \n",
        "\n",
        "plt.plot(range(1,15), objective_function)\n",
        "plt.title(\"The Elbow method\")\n",
        "plt.xlabel(\"Number of Clusters K\")\n",
        "plt.ylabel(\"Objective_function\")\n",
        "plt.show()"
      ],
      "metadata": {
        "colab": {
          "base_uri": "https://localhost:8080/",
          "height": 295
        },
        "id": "KWlkbyavMx6T",
        "outputId": "e0a7bac5-daa2-4223-dba3-20c0000ac99a"
      },
      "execution_count": 44,
      "outputs": [
        {
          "output_type": "display_data",
          "data": {
            "image/png": "[encoded data removed]",
            "text/plain": [
              "<Figure size 432x288 with 1 Axes>"
            ]
          },
          "metadata": {
            "needs_background": "light"
          }
        }
      ]
    },
    {
      "cell_type": "code",
      "source": [
        "# Training the model with optimal no of clusters\n",
        "tuned_clustering=KMeans(n_clusters=7,random_state=0)\n",
        "labels=tuned_clustering.fit_predict(X_scaled)\n",
        "print(\"Labels are: \", labels)\n",
        "print()\n",
        "# x and y  coordinates of all clusters\n",
        "# Centroids of clusters\n",
        "print(\"Centroids of clusters are: \", tuned_clustering.cluster_centers_[:])"
      ],
      "metadata": {
        "colab": {
          "base_uri": "https://localhost:8080/"
        },
        "id": "4b2y9ONHN3Zy",
        "outputId": "a2932aec-3616-4228-b232-141a86f888de"
      },
      "execution_count": 56,
      "outputs": [
        {
          "output_type": "stream",
          "name": "stdout",
          "text": [
            "Labels are:  [2 4 4 0 5 4 0 2 5 2 6 2 2 4 2 5 2 2 1 2 2 2 0 2 1 2 2 2 1 2 2 6 2 0 2 1 5\n",
            " 1 4 2 2 2 5 0 2 2 2 5 3 2 6 2 4 4 2 0 2 6 2 0 2 2 2 4 2 0 1 4 1 4 6 2 1 4\n",
            " 2 0 5 1 2 2 0 2 2 0 1 1 2 1 1 2 6 2 2 1 2 1 6 0 5 0 0 1 0 0 1 2 4 4 5 0 1\n",
            " 4 2 0 1 2 2 2 0 3 1 1 0 1 1 5 2 1 0 2 1 1 1 0 0 0 0 4 1 0 2 1 3 2 2 4 0 2\n",
            " 1 1 0 3 0 0 0 0 1 1 2 1 6 0 5 2 1 1 4 1 2 4 1 0 1 1 0 1 0 1 3 1 0 2 5 4 4\n",
            " 2 1 5 5 4 2 1 1 2 1 3 1 0 1 1 4 2 1 2 4 1 2 1 2 0 1 0 0 2 1 4 2 3 1 6 0 0\n",
            " 2 2 0 2 3 2 2 3 2 2 3 0 2 0 0 2 4 0 2 1 4 0 0 2 6 4 5 2 2 4 0 1 0 2 0 5 4\n",
            " 5 2 2 0 4 2 6 2 0 6 1 1 1 0 0 1 2 2 1 1 1 1 0 4 0 1 0 4 2 1 2 0 1 1 0 4 0\n",
            " 0 2 2 2 2 2 6 5 1 0 2 6 2 1 2 2 2 0 2 5 2 1 2 2 5 2 2 2 5 2 2 1 6 2 2 1 5\n",
            " 2 1 5 2 1 0 5 2 0 0 5 5 0 2 5 6 2]\n",
            "\n",
            "Centroids of clusters are:  [[0.1303041  0.62688697 0.31412592 0.70550889]\n",
            " [0.09764826 0.17547721 0.14289713 0.56302258]\n",
            " [0.14418971 0.26758754 0.22568182 0.80414124]\n",
            " [0.55547517 0.70644573 0.26195068 0.71424101]\n",
            " [0.112021   0.91105002 0.18240751 0.65985218]\n",
            " [0.09681184 0.90183337 0.17743126 0.36168311]\n",
            " [0.09865401 0.42837137 0.55311219 0.50386467]]\n"
          ]
        }
      ]
    },
    {
      "cell_type": "code",
      "source": [
        "# visualizing the clusters\n",
        "plt.scatter(X_scaled[labels==0,0],X_scaled[labels==0,1],c= \"green\", label=\"Cluster 1\")\n",
        "plt.scatter(X_scaled[labels==1,0],X_scaled[labels==1,1],c= \"yellow\",label=\"Cluster 2\")\n",
        "plt.scatter(X_scaled[labels==2,0],X_scaled[labels==2,1],c=\"red\",label=\"Cluster 3\")\n",
        "plt.scatter(X_scaled[labels==3,0],X_scaled[labels==3,1],c=\"orange\",label=\"Cluster 4\")\n",
        "plt.scatter(X_scaled[labels==4,0],X_scaled[labels==4,1],c=\"blue\",label=\"Cluster 5\")\n",
        "plt.scatter(X_scaled[labels==5,0],X_scaled[labels==5,1],c=\"pink\",label=\"Cluster 6\")\n",
        "plt.scatter(X_scaled[labels==6,0],X_scaled[labels==6,1],c=\"grey\",label=\"Cluster 7\")\n",
        "\n",
        "\n",
        "plt.scatter(tuned_clustering.cluster_centers_[:,0],tuned_clustering.cluster_centers_[:,1],s=45,c=\"black\",label=\"centroid\")\n",
        "plt.title(\"Clusters of different songs\")\n",
        "\n",
        "plt.legend()\n",
        "plt.show()"
      ],
      "metadata": {
        "colab": {
          "base_uri": "https://localhost:8080/",
          "height": 281
        },
        "id": "pXFzj3q5Odbn",
        "outputId": "18294f0a-b05c-444b-8829-91ac2d711cd1"
      },
      "execution_count": 62,
      "outputs": [
        {
          "output_type": "display_data",
          "data": {
            "image/png": "[encoded data removed]",
            "text/plain": [
              "<Figure size 432x288 with 1 Axes>"
            ]
          },
          "metadata": {
            "needs_background": "light"
          }
        }
      ]
    },
    {
      "cell_type": "markdown",
      "source": [
        "Although I went with 7 clusters in my final model, the Elbow method actually suggested 4. "
      ],
      "metadata": {
        "id": "QobEQIA8RW9v"
      }
    },
    {
      "cell_type": "code",
      "source": [
        ""
      ],
      "metadata": {
        "id": "TuxFTpWCReqp"
      },
      "execution_count": null,
      "outputs": []
    }
  ]
}